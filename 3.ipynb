{
 "cells": [
  {
   "cell_type": "code",
   "execution_count": 2,
   "id": "553fa569",
   "metadata": {},
   "outputs": [],
   "source": [
    "import numpy as np\n",
    "import pandas as pd\n",
    "import matplotlib.pyplot as plt\n",
    "import seaborn as sns"
   ]
  },
  {
   "cell_type": "code",
   "execution_count": null,
   "id": "88786008",
   "metadata": {},
   "outputs": [],
   "source": [
    "pd.set_option(\"display.Max_row\",None)\n",
    "pd.set_option(\"display.Max_column\",None)"
   ]
  },
  {
   "cell_type": "code",
   "execution_count": null,
   "id": "b7872995",
   "metadata": {},
   "outputs": [],
   "source": [
    "data=pd.read_csv(r\"D:/Data Set/train.csv\")"
   ]
  },
  {
   "cell_type": "code",
   "execution_count": null,
   "id": "9ed59eff",
   "metadata": {},
   "outputs": [],
   "source": [
    "percent=data.isnull().sum()/data.shape[0]*100"
   ]
  },
  {
   "cell_type": "code",
   "execution_count": null,
   "id": "243b1024",
   "metadata": {},
   "outputs": [],
   "source": [
    "dropc=percent[percent>20].keys()"
   ]
  },
  {
   "cell_type": "code",
   "execution_count": null,
   "id": "16c2eadc",
   "metadata": {},
   "outputs": [],
   "source": [
    "data2=data.drop(columns=dropc)"
   ]
  },
  {
   "cell_type": "code",
   "execution_count": null,
   "id": "59c5fdc2",
   "metadata": {},
   "outputs": [],
   "source": [
    "num_var=data2.select_dtypes(include=[\"int\",\"float\"])\n"
   ]
  },
  {
   "cell_type": "code",
   "execution_count": null,
   "id": "9de0bad1",
   "metadata": {},
   "outputs": [],
   "source": [
    "miss_num_var=[var for var in num_var.columns if num_var[var].isnull().sum()>0]\n",
    "print(miss_num_var)"
   ]
  },
  {
   "cell_type": "code",
   "execution_count": null,
   "id": "8bd8264f",
   "metadata": {},
   "outputs": [],
   "source": [
    "#accecing unique value\n",
    "data2['LotConfig'].unique()"
   ]
  },
  {
   "cell_type": "code",
   "execution_count": null,
   "id": "7f66b144",
   "metadata": {},
   "outputs": [],
   "source": [
    "#logic of filling mean values in a column\n",
    "data2[data2.loc[:,'LotConfig']==\"Inside\"]['LotFrontage'].replace(np.nan,data2[data2.loc[:,'LotConfig']==\"Inside\"]['LotFrontage'].mean())"
   ]
  },
  {
   "cell_type": "code",
   "execution_count": null,
   "id": "6b4493c0",
   "metadata": {},
   "outputs": [],
   "source": [
    "#finding mean of each value\n",
    "var_class=['Inside', 'FR2', 'Corner', 'CulDSac', 'FR3']\n",
    "for var in var_class:\n",
    "    mean=data2[data2.loc[:,'LotConfig']== var]['LotFrontage'].mean()\n",
    "    print(var ,\":\",mean)"
   ]
  },
  {
   "cell_type": "code",
   "execution_count": null,
   "id": "f4a9d710",
   "metadata": {
    "scrolled": true
   },
   "outputs": [],
   "source": [
    "#mean\n",
    "mean_copy=data.copy()\n",
    "num_vars=['LotFrontage', 'MasVnrArea', 'GarageYrBlt']\n",
    "cat_vars= ['LotConfig','Exterior2nd','KitchenQual'] \n",
    "for cat_var,num_var in zip(cat_vars,num_vars):\n",
    "    for var_class in data[cat_var].unique():\n",
    "        mean_copy.update(data[data.loc[:, cat_var]==var_class][num_var].replace(np.nan,data[data.loc[:, cat_var]==var_class][num_var].mean()))\n"
   ]
  },
  {
   "cell_type": "code",
   "execution_count": null,
   "id": "86952f1a",
   "metadata": {},
   "outputs": [],
   "source": [
    "#median\n",
    "median_copy=data.copy()\n",
    "num_vars=['LotFrontage', 'MasVnrArea', 'GarageYrBlt']\n",
    "cat_vars= ['LotConfig','Exterior2nd','KitchenQual'] \n",
    "for cat_var,num_var in zip(cat_vars,num_vars):\n",
    "    for var_class in data[cat_var].unique():\n",
    "        median_copy.update(data[data.loc[:, cat_var]==var_class][num_var].replace(np.nan,data[data.loc[:, cat_var]==var_class][num_var].median()))\n"
   ]
  },
  {
   "cell_type": "code",
   "execution_count": null,
   "id": "dab53285",
   "metadata": {},
   "outputs": [],
   "source": [
    "mean_copy[num_vars].isnull().sum()"
   ]
  },
  {
   "cell_type": "code",
   "execution_count": null,
   "id": "d3725f10",
   "metadata": {
    "scrolled": false
   },
   "outputs": [],
   "source": [
    "plt.figure(figsize=(10,10))\n",
    "sns.set()\n",
    "for i ,var in enumerate(num_vars):\n",
    "    plt.subplot(2,2,i+1)\n",
    "    sns.distplot(data[var],kde_kws={'linewidth':2,'color':'green'},bins=20,label='Orignal')\n",
    "    sns.distplot(median_copy[var],kde_kws={'linewidth':4,'color':'red'},bins=20,label='Median')\n",
    "    sns.distplot(mean_copy[var],kde_kws={'linewidth':2,'color':'yellow'},bins=20,label='Mean')\n",
    "    plt.legend()\n",
    "\n"
   ]
  },
  {
   "cell_type": "code",
   "execution_count": null,
   "id": "5208d037",
   "metadata": {},
   "outputs": [],
   "source": [
    "# orient \n",
    "for i ,var in enumerate (num_vars):\n",
    "    plt.figure(figsize=(10,10))\n",
    "    plt.subplot(3,1,1)\n",
    "    sns.boxplot(data[var],orient='h')\n",
    "    plt.subplot(3,1,2)\n",
    "    sns.boxplot(mean_copy[var],orient='h')\n",
    "    plt.subplot(3,1,3)\n",
    "    sns.boxplot(median_copy[var],orient='h')"
   ]
  },
  {
   "cell_type": "code",
   "execution_count": null,
   "id": "474c82bf",
   "metadata": {},
   "outputs": [],
   "source": []
  }
 ],
 "metadata": {
  "kernelspec": {
   "display_name": "Python 3 (ipykernel)",
   "language": "python",
   "name": "python3"
  },
  "language_info": {
   "codemirror_mode": {
    "name": "ipython",
    "version": 3
   },
   "file_extension": ".py",
   "mimetype": "text/x-python",
   "name": "python",
   "nbconvert_exporter": "python",
   "pygments_lexer": "ipython3",
   "version": "3.11.5"
  }
 },
 "nbformat": 4,
 "nbformat_minor": 5
}
